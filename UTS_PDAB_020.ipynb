{
  "nbformat": 4,
  "nbformat_minor": 0,
  "metadata": {
    "colab": {
      "provenance": [],
      "authorship_tag": "ABX9TyPK5JbtdPQd4yMKMoVeiuCn",
      "include_colab_link": true
    },
    "kernelspec": {
      "name": "python3",
      "display_name": "Python 3"
    },
    "language_info": {
      "name": "python"
    }
  },
  "cells": [
    {
      "cell_type": "markdown",
      "metadata": {
        "id": "view-in-github",
        "colab_type": "text"
      },
      "source": [
        "<a href=\"https://colab.research.google.com/github/rositata/020_UTS_PDAB/blob/main/UTS_PDAB_020.ipynb\" target=\"_parent\"><img src=\"https://colab.research.google.com/assets/colab-badge.svg\" alt=\"Open In Colab\"/></a>"
      ]
    },
    {
      "cell_type": "code",
      "source": [
        "!pip install numpy"
      ],
      "metadata": {
        "colab": {
          "base_uri": "https://localhost:8080/"
        },
        "id": "3fykps26-iMK",
        "outputId": "b092b9c5-be20-4845-ba85-d8eccc783433"
      },
      "execution_count": 95,
      "outputs": [
        {
          "output_type": "stream",
          "name": "stdout",
          "text": [
            "Requirement already satisfied: numpy in /usr/local/lib/python3.11/dist-packages (2.0.2)\n"
          ]
        }
      ]
    },
    {
      "cell_type": "code",
      "execution_count": 96,
      "metadata": {
        "id": "nRjH8_pY2bOp"
      },
      "outputs": [],
      "source": [
        "# Import Library yang dibutuhkan\n",
        "import numpy as np\n",
        "import pandas as pd\n",
        "import yfinance as yf\n",
        "import matplotlib.pyplot as plt\n",
        "from statsmodels.graphics.tsaplots import plot_acf, plot_pacf\n",
        "import seaborn as sns"
      ]
    },
    {
      "cell_type": "code",
      "source": [
        "# Membaca dataset Titanic\n",
        "data = pd.read_csv('/content/Titanic-Dataset.csv')\n",
        "data.head()"
      ],
      "metadata": {
        "colab": {
          "base_uri": "https://localhost:8080/",
          "height": 258
        },
        "collapsed": true,
        "id": "1gL1Yfzb4-za",
        "outputId": "a5ac0336-fbf4-4144-f3b4-037751075771"
      },
      "execution_count": 97,
      "outputs": [
        {
          "output_type": "execute_result",
          "data": {
            "text/plain": [
              "   PassengerId  Survived  Pclass  \\\n",
              "0            1         0       3   \n",
              "1            2         1       1   \n",
              "2            3         1       3   \n",
              "3            4         1       1   \n",
              "4            5         0       3   \n",
              "\n",
              "                                                Name     Sex   Age  SibSp  \\\n",
              "0                            Braund, Mr. Owen Harris    male  22.0      1   \n",
              "1  Cumings, Mrs. John Bradley (Florence Briggs Th...  female  38.0      1   \n",
              "2                             Heikkinen, Miss. Laina  female  26.0      0   \n",
              "3       Futrelle, Mrs. Jacques Heath (Lily May Peel)  female  35.0      1   \n",
              "4                           Allen, Mr. William Henry    male  35.0      0   \n",
              "\n",
              "   Parch            Ticket     Fare Cabin Embarked  \n",
              "0      0         A/5 21171   7.2500   NaN        S  \n",
              "1      0          PC 17599  71.2833   C85        C  \n",
              "2      0  STON/O2. 3101282   7.9250   NaN        S  \n",
              "3      0            113803  53.1000  C123        S  \n",
              "4      0            373450   8.0500   NaN        S  "
            ],
            "text/html": [
              "\n",
              "  <div id=\"df-77463193-77f4-489d-970f-f1db72027b8a\" class=\"colab-df-container\">\n",
              "    <div>\n",
              "<style scoped>\n",
              "    .dataframe tbody tr th:only-of-type {\n",
              "        vertical-align: middle;\n",
              "    }\n",
              "\n",
              "    .dataframe tbody tr th {\n",
              "        vertical-align: top;\n",
              "    }\n",
              "\n",
              "    .dataframe thead th {\n",
              "        text-align: right;\n",
              "    }\n",
              "</style>\n",
              "<table border=\"1\" class=\"dataframe\">\n",
              "  <thead>\n",
              "    <tr style=\"text-align: right;\">\n",
              "      <th></th>\n",
              "      <th>PassengerId</th>\n",
              "      <th>Survived</th>\n",
              "      <th>Pclass</th>\n",
              "      <th>Name</th>\n",
              "      <th>Sex</th>\n",
              "      <th>Age</th>\n",
              "      <th>SibSp</th>\n",
              "      <th>Parch</th>\n",
              "      <th>Ticket</th>\n",
              "      <th>Fare</th>\n",
              "      <th>Cabin</th>\n",
              "      <th>Embarked</th>\n",
              "    </tr>\n",
              "  </thead>\n",
              "  <tbody>\n",
              "    <tr>\n",
              "      <th>0</th>\n",
              "      <td>1</td>\n",
              "      <td>0</td>\n",
              "      <td>3</td>\n",
              "      <td>Braund, Mr. Owen Harris</td>\n",
              "      <td>male</td>\n",
              "      <td>22.0</td>\n",
              "      <td>1</td>\n",
              "      <td>0</td>\n",
              "      <td>A/5 21171</td>\n",
              "      <td>7.2500</td>\n",
              "      <td>NaN</td>\n",
              "      <td>S</td>\n",
              "    </tr>\n",
              "    <tr>\n",
              "      <th>1</th>\n",
              "      <td>2</td>\n",
              "      <td>1</td>\n",
              "      <td>1</td>\n",
              "      <td>Cumings, Mrs. John Bradley (Florence Briggs Th...</td>\n",
              "      <td>female</td>\n",
              "      <td>38.0</td>\n",
              "      <td>1</td>\n",
              "      <td>0</td>\n",
              "      <td>PC 17599</td>\n",
              "      <td>71.2833</td>\n",
              "      <td>C85</td>\n",
              "      <td>C</td>\n",
              "    </tr>\n",
              "    <tr>\n",
              "      <th>2</th>\n",
              "      <td>3</td>\n",
              "      <td>1</td>\n",
              "      <td>3</td>\n",
              "      <td>Heikkinen, Miss. Laina</td>\n",
              "      <td>female</td>\n",
              "      <td>26.0</td>\n",
              "      <td>0</td>\n",
              "      <td>0</td>\n",
              "      <td>STON/O2. 3101282</td>\n",
              "      <td>7.9250</td>\n",
              "      <td>NaN</td>\n",
              "      <td>S</td>\n",
              "    </tr>\n",
              "    <tr>\n",
              "      <th>3</th>\n",
              "      <td>4</td>\n",
              "      <td>1</td>\n",
              "      <td>1</td>\n",
              "      <td>Futrelle, Mrs. Jacques Heath (Lily May Peel)</td>\n",
              "      <td>female</td>\n",
              "      <td>35.0</td>\n",
              "      <td>1</td>\n",
              "      <td>0</td>\n",
              "      <td>113803</td>\n",
              "      <td>53.1000</td>\n",
              "      <td>C123</td>\n",
              "      <td>S</td>\n",
              "    </tr>\n",
              "    <tr>\n",
              "      <th>4</th>\n",
              "      <td>5</td>\n",
              "      <td>0</td>\n",
              "      <td>3</td>\n",
              "      <td>Allen, Mr. William Henry</td>\n",
              "      <td>male</td>\n",
              "      <td>35.0</td>\n",
              "      <td>0</td>\n",
              "      <td>0</td>\n",
              "      <td>373450</td>\n",
              "      <td>8.0500</td>\n",
              "      <td>NaN</td>\n",
              "      <td>S</td>\n",
              "    </tr>\n",
              "  </tbody>\n",
              "</table>\n",
              "</div>\n",
              "    <div class=\"colab-df-buttons\">\n",
              "\n",
              "  <div class=\"colab-df-container\">\n",
              "    <button class=\"colab-df-convert\" onclick=\"convertToInteractive('df-77463193-77f4-489d-970f-f1db72027b8a')\"\n",
              "            title=\"Convert this dataframe to an interactive table.\"\n",
              "            style=\"display:none;\">\n",
              "\n",
              "  <svg xmlns=\"http://www.w3.org/2000/svg\" height=\"24px\" viewBox=\"0 -960 960 960\">\n",
              "    <path d=\"M120-120v-720h720v720H120Zm60-500h600v-160H180v160Zm220 220h160v-160H400v160Zm0 220h160v-160H400v160ZM180-400h160v-160H180v160Zm440 0h160v-160H620v160ZM180-180h160v-160H180v160Zm440 0h160v-160H620v160Z\"/>\n",
              "  </svg>\n",
              "    </button>\n",
              "\n",
              "  <style>\n",
              "    .colab-df-container {\n",
              "      display:flex;\n",
              "      gap: 12px;\n",
              "    }\n",
              "\n",
              "    .colab-df-convert {\n",
              "      background-color: #E8F0FE;\n",
              "      border: none;\n",
              "      border-radius: 50%;\n",
              "      cursor: pointer;\n",
              "      display: none;\n",
              "      fill: #1967D2;\n",
              "      height: 32px;\n",
              "      padding: 0 0 0 0;\n",
              "      width: 32px;\n",
              "    }\n",
              "\n",
              "    .colab-df-convert:hover {\n",
              "      background-color: #E2EBFA;\n",
              "      box-shadow: 0px 1px 2px rgba(60, 64, 67, 0.3), 0px 1px 3px 1px rgba(60, 64, 67, 0.15);\n",
              "      fill: #174EA6;\n",
              "    }\n",
              "\n",
              "    .colab-df-buttons div {\n",
              "      margin-bottom: 4px;\n",
              "    }\n",
              "\n",
              "    [theme=dark] .colab-df-convert {\n",
              "      background-color: #3B4455;\n",
              "      fill: #D2E3FC;\n",
              "    }\n",
              "\n",
              "    [theme=dark] .colab-df-convert:hover {\n",
              "      background-color: #434B5C;\n",
              "      box-shadow: 0px 1px 3px 1px rgba(0, 0, 0, 0.15);\n",
              "      filter: drop-shadow(0px 1px 2px rgba(0, 0, 0, 0.3));\n",
              "      fill: #FFFFFF;\n",
              "    }\n",
              "  </style>\n",
              "\n",
              "    <script>\n",
              "      const buttonEl =\n",
              "        document.querySelector('#df-77463193-77f4-489d-970f-f1db72027b8a button.colab-df-convert');\n",
              "      buttonEl.style.display =\n",
              "        google.colab.kernel.accessAllowed ? 'block' : 'none';\n",
              "\n",
              "      async function convertToInteractive(key) {\n",
              "        const element = document.querySelector('#df-77463193-77f4-489d-970f-f1db72027b8a');\n",
              "        const dataTable =\n",
              "          await google.colab.kernel.invokeFunction('convertToInteractive',\n",
              "                                                    [key], {});\n",
              "        if (!dataTable) return;\n",
              "\n",
              "        const docLinkHtml = 'Like what you see? Visit the ' +\n",
              "          '<a target=\"_blank\" href=https://colab.research.google.com/notebooks/data_table.ipynb>data table notebook</a>'\n",
              "          + ' to learn more about interactive tables.';\n",
              "        element.innerHTML = '';\n",
              "        dataTable['output_type'] = 'display_data';\n",
              "        await google.colab.output.renderOutput(dataTable, element);\n",
              "        const docLink = document.createElement('div');\n",
              "        docLink.innerHTML = docLinkHtml;\n",
              "        element.appendChild(docLink);\n",
              "      }\n",
              "    </script>\n",
              "  </div>\n",
              "\n",
              "\n",
              "<div id=\"df-6f16da74-b197-4967-a7c1-38d4490f0d7c\">\n",
              "  <button class=\"colab-df-quickchart\" onclick=\"quickchart('df-6f16da74-b197-4967-a7c1-38d4490f0d7c')\"\n",
              "            title=\"Suggest charts\"\n",
              "            style=\"display:none;\">\n",
              "\n",
              "<svg xmlns=\"http://www.w3.org/2000/svg\" height=\"24px\"viewBox=\"0 0 24 24\"\n",
              "     width=\"24px\">\n",
              "    <g>\n",
              "        <path d=\"M19 3H5c-1.1 0-2 .9-2 2v14c0 1.1.9 2 2 2h14c1.1 0 2-.9 2-2V5c0-1.1-.9-2-2-2zM9 17H7v-7h2v7zm4 0h-2V7h2v10zm4 0h-2v-4h2v4z\"/>\n",
              "    </g>\n",
              "</svg>\n",
              "  </button>\n",
              "\n",
              "<style>\n",
              "  .colab-df-quickchart {\n",
              "      --bg-color: #E8F0FE;\n",
              "      --fill-color: #1967D2;\n",
              "      --hover-bg-color: #E2EBFA;\n",
              "      --hover-fill-color: #174EA6;\n",
              "      --disabled-fill-color: #AAA;\n",
              "      --disabled-bg-color: #DDD;\n",
              "  }\n",
              "\n",
              "  [theme=dark] .colab-df-quickchart {\n",
              "      --bg-color: #3B4455;\n",
              "      --fill-color: #D2E3FC;\n",
              "      --hover-bg-color: #434B5C;\n",
              "      --hover-fill-color: #FFFFFF;\n",
              "      --disabled-bg-color: #3B4455;\n",
              "      --disabled-fill-color: #666;\n",
              "  }\n",
              "\n",
              "  .colab-df-quickchart {\n",
              "    background-color: var(--bg-color);\n",
              "    border: none;\n",
              "    border-radius: 50%;\n",
              "    cursor: pointer;\n",
              "    display: none;\n",
              "    fill: var(--fill-color);\n",
              "    height: 32px;\n",
              "    padding: 0;\n",
              "    width: 32px;\n",
              "  }\n",
              "\n",
              "  .colab-df-quickchart:hover {\n",
              "    background-color: var(--hover-bg-color);\n",
              "    box-shadow: 0 1px 2px rgba(60, 64, 67, 0.3), 0 1px 3px 1px rgba(60, 64, 67, 0.15);\n",
              "    fill: var(--button-hover-fill-color);\n",
              "  }\n",
              "\n",
              "  .colab-df-quickchart-complete:disabled,\n",
              "  .colab-df-quickchart-complete:disabled:hover {\n",
              "    background-color: var(--disabled-bg-color);\n",
              "    fill: var(--disabled-fill-color);\n",
              "    box-shadow: none;\n",
              "  }\n",
              "\n",
              "  .colab-df-spinner {\n",
              "    border: 2px solid var(--fill-color);\n",
              "    border-color: transparent;\n",
              "    border-bottom-color: var(--fill-color);\n",
              "    animation:\n",
              "      spin 1s steps(1) infinite;\n",
              "  }\n",
              "\n",
              "  @keyframes spin {\n",
              "    0% {\n",
              "      border-color: transparent;\n",
              "      border-bottom-color: var(--fill-color);\n",
              "      border-left-color: var(--fill-color);\n",
              "    }\n",
              "    20% {\n",
              "      border-color: transparent;\n",
              "      border-left-color: var(--fill-color);\n",
              "      border-top-color: var(--fill-color);\n",
              "    }\n",
              "    30% {\n",
              "      border-color: transparent;\n",
              "      border-left-color: var(--fill-color);\n",
              "      border-top-color: var(--fill-color);\n",
              "      border-right-color: var(--fill-color);\n",
              "    }\n",
              "    40% {\n",
              "      border-color: transparent;\n",
              "      border-right-color: var(--fill-color);\n",
              "      border-top-color: var(--fill-color);\n",
              "    }\n",
              "    60% {\n",
              "      border-color: transparent;\n",
              "      border-right-color: var(--fill-color);\n",
              "    }\n",
              "    80% {\n",
              "      border-color: transparent;\n",
              "      border-right-color: var(--fill-color);\n",
              "      border-bottom-color: var(--fill-color);\n",
              "    }\n",
              "    90% {\n",
              "      border-color: transparent;\n",
              "      border-bottom-color: var(--fill-color);\n",
              "    }\n",
              "  }\n",
              "</style>\n",
              "\n",
              "  <script>\n",
              "    async function quickchart(key) {\n",
              "      const quickchartButtonEl =\n",
              "        document.querySelector('#' + key + ' button');\n",
              "      quickchartButtonEl.disabled = true;  // To prevent multiple clicks.\n",
              "      quickchartButtonEl.classList.add('colab-df-spinner');\n",
              "      try {\n",
              "        const charts = await google.colab.kernel.invokeFunction(\n",
              "            'suggestCharts', [key], {});\n",
              "      } catch (error) {\n",
              "        console.error('Error during call to suggestCharts:', error);\n",
              "      }\n",
              "      quickchartButtonEl.classList.remove('colab-df-spinner');\n",
              "      quickchartButtonEl.classList.add('colab-df-quickchart-complete');\n",
              "    }\n",
              "    (() => {\n",
              "      let quickchartButtonEl =\n",
              "        document.querySelector('#df-6f16da74-b197-4967-a7c1-38d4490f0d7c button');\n",
              "      quickchartButtonEl.style.display =\n",
              "        google.colab.kernel.accessAllowed ? 'block' : 'none';\n",
              "    })();\n",
              "  </script>\n",
              "</div>\n",
              "\n",
              "    </div>\n",
              "  </div>\n"
            ],
            "application/vnd.google.colaboratory.intrinsic+json": {
              "type": "dataframe",
              "variable_name": "data",
              "summary": "{\n  \"name\": \"data\",\n  \"rows\": 891,\n  \"fields\": [\n    {\n      \"column\": \"PassengerId\",\n      \"properties\": {\n        \"dtype\": \"number\",\n        \"std\": 257,\n        \"min\": 1,\n        \"max\": 891,\n        \"num_unique_values\": 891,\n        \"samples\": [\n          710,\n          440,\n          841\n        ],\n        \"semantic_type\": \"\",\n        \"description\": \"\"\n      }\n    },\n    {\n      \"column\": \"Survived\",\n      \"properties\": {\n        \"dtype\": \"number\",\n        \"std\": 0,\n        \"min\": 0,\n        \"max\": 1,\n        \"num_unique_values\": 2,\n        \"samples\": [\n          1,\n          0\n        ],\n        \"semantic_type\": \"\",\n        \"description\": \"\"\n      }\n    },\n    {\n      \"column\": \"Pclass\",\n      \"properties\": {\n        \"dtype\": \"number\",\n        \"std\": 0,\n        \"min\": 1,\n        \"max\": 3,\n        \"num_unique_values\": 3,\n        \"samples\": [\n          3,\n          1\n        ],\n        \"semantic_type\": \"\",\n        \"description\": \"\"\n      }\n    },\n    {\n      \"column\": \"Name\",\n      \"properties\": {\n        \"dtype\": \"string\",\n        \"num_unique_values\": 891,\n        \"samples\": [\n          \"Moubarek, Master. Halim Gonios (\\\"William George\\\")\",\n          \"Kvillner, Mr. Johan Henrik Johannesson\"\n        ],\n        \"semantic_type\": \"\",\n        \"description\": \"\"\n      }\n    },\n    {\n      \"column\": \"Sex\",\n      \"properties\": {\n        \"dtype\": \"category\",\n        \"num_unique_values\": 2,\n        \"samples\": [\n          \"female\",\n          \"male\"\n        ],\n        \"semantic_type\": \"\",\n        \"description\": \"\"\n      }\n    },\n    {\n      \"column\": \"Age\",\n      \"properties\": {\n        \"dtype\": \"number\",\n        \"std\": 14.526497332334044,\n        \"min\": 0.42,\n        \"max\": 80.0,\n        \"num_unique_values\": 88,\n        \"samples\": [\n          0.75,\n          22.0\n        ],\n        \"semantic_type\": \"\",\n        \"description\": \"\"\n      }\n    },\n    {\n      \"column\": \"SibSp\",\n      \"properties\": {\n        \"dtype\": \"number\",\n        \"std\": 1,\n        \"min\": 0,\n        \"max\": 8,\n        \"num_unique_values\": 7,\n        \"samples\": [\n          1,\n          0\n        ],\n        \"semantic_type\": \"\",\n        \"description\": \"\"\n      }\n    },\n    {\n      \"column\": \"Parch\",\n      \"properties\": {\n        \"dtype\": \"number\",\n        \"std\": 0,\n        \"min\": 0,\n        \"max\": 6,\n        \"num_unique_values\": 7,\n        \"samples\": [\n          0,\n          1\n        ],\n        \"semantic_type\": \"\",\n        \"description\": \"\"\n      }\n    },\n    {\n      \"column\": \"Ticket\",\n      \"properties\": {\n        \"dtype\": \"string\",\n        \"num_unique_values\": 681,\n        \"samples\": [\n          \"11774\",\n          \"248740\"\n        ],\n        \"semantic_type\": \"\",\n        \"description\": \"\"\n      }\n    },\n    {\n      \"column\": \"Fare\",\n      \"properties\": {\n        \"dtype\": \"number\",\n        \"std\": 49.693428597180905,\n        \"min\": 0.0,\n        \"max\": 512.3292,\n        \"num_unique_values\": 248,\n        \"samples\": [\n          11.2417,\n          51.8625\n        ],\n        \"semantic_type\": \"\",\n        \"description\": \"\"\n      }\n    },\n    {\n      \"column\": \"Cabin\",\n      \"properties\": {\n        \"dtype\": \"category\",\n        \"num_unique_values\": 147,\n        \"samples\": [\n          \"D45\",\n          \"B49\"\n        ],\n        \"semantic_type\": \"\",\n        \"description\": \"\"\n      }\n    },\n    {\n      \"column\": \"Embarked\",\n      \"properties\": {\n        \"dtype\": \"category\",\n        \"num_unique_values\": 3,\n        \"samples\": [\n          \"S\",\n          \"C\"\n        ],\n        \"semantic_type\": \"\",\n        \"description\": \"\"\n      }\n    }\n  ]\n}"
            }
          },
          "metadata": {},
          "execution_count": 97
        }
      ]
    },
    {
      "cell_type": "markdown",
      "source": [
        "**SOAL 1**"
      ],
      "metadata": {
        "id": "Qw3fRFvGANRe"
      }
    },
    {
      "cell_type": "markdown",
      "source": [
        "**a.  Berapa jumlah penumpang dalam data?**"
      ],
      "metadata": {
        "id": "GSCRBc5W5yxx"
      }
    },
    {
      "cell_type": "code",
      "source": [
        "# Menghitung jumlah total penumpang dalam data\n",
        "jumlah_penumpang = len(data)\n",
        "print(f\"Jumlah total penumpang dalam data adalah: {jumlah_penumpang}\")"
      ],
      "metadata": {
        "colab": {
          "base_uri": "https://localhost:8080/"
        },
        "id": "jpzRnrKr5cue",
        "outputId": "f50987b2-cbe1-4218-ef5c-571a8ea6c0eb"
      },
      "execution_count": 98,
      "outputs": [
        {
          "output_type": "stream",
          "name": "stdout",
          "text": [
            "Jumlah total penumpang dalam data adalah: 891\n"
          ]
        }
      ]
    },
    {
      "cell_type": "markdown",
      "source": [
        "**b. Berapa jumlah penumpang yang selamat dan tidak selamat (tampilkan data bentuk tabel dan grafik)**"
      ],
      "metadata": {
        "id": "4pjMjRuE6j4n"
      }
    },
    {
      "cell_type": "code",
      "source": [
        "# Hitung jumlah berdasarkan kolom 'Survived' (1 = Selamat, 0 = Tidak Selamat)\n",
        "jumlah_selamat_tidak = data['Survived'].value_counts().rename(index={0: 'Tidak Selamat', 1: 'Selamat'})\n",
        "\n",
        "# Tampilkan dalam bentuk tabel\n",
        "print(\"Jumlah Penumpang yang Selamat dan Tidak Selamat:\")\n",
        "print(jumlah_selamat_tidak)\n",
        "\n",
        "# Visualisasi dalam bentuk grafik\n",
        "plt.figure(figsize=(6,4))\n",
        "sns.countplot(x='Survived', data=data, palette='Set2')\n",
        "plt.xticks([0, 1], ['Tidak Selamat', 'Selamat'])\n",
        "plt.title('Jumlah Penumpang: Selamat vs Tidak Selamat')\n",
        "plt.xlabel('Status')\n",
        "plt.ylabel('Jumlah')\n",
        "plt.show()"
      ],
      "metadata": {
        "colab": {
          "base_uri": "https://localhost:8080/",
          "height": 604
        },
        "collapsed": true,
        "id": "n5qgul9s5yAj",
        "outputId": "2bfad61e-b55d-4116-c5dd-282f60572ad7"
      },
      "execution_count": 99,
      "outputs": [
        {
          "output_type": "stream",
          "name": "stdout",
          "text": [
            "Jumlah Penumpang yang Selamat dan Tidak Selamat:\n",
            "Survived\n",
            "Tidak Selamat    549\n",
            "Selamat          342\n",
            "Name: count, dtype: int64\n"
          ]
        },
        {
          "output_type": "stream",
          "name": "stderr",
          "text": [
            "<ipython-input-99-c643fb6bffd3>:10: FutureWarning: \n",
            "\n",
            "Passing `palette` without assigning `hue` is deprecated and will be removed in v0.14.0. Assign the `x` variable to `hue` and set `legend=False` for the same effect.\n",
            "\n",
            "  sns.countplot(x='Survived', data=data, palette='Set2')\n"
          ]
        },
        {
          "output_type": "display_data",
          "data": {
            "text/plain": [
              "<Figure size 600x400 with 1 Axes>"
            ],
            "image/png": "[encoded data removed]"
          },
          "metadata": {}
        }
      ]
    },
    {
      "cell_type": "markdown",
      "source": [
        "**c. Berapa rata rata umur penumpang dan siapa penumpang yang termuda dan tertu**"
      ],
      "metadata": {
        "id": "YtoP60HM7Bhc"
      }
    },
    {
      "cell_type": "code",
      "source": [
        "# Menghitung rata-rata umur penumpang\n",
        "rata_rata_umur = data['Age'].mean()\n",
        "\n",
        "# Menemukan penumpang termuda\n",
        "termuda = data.loc[data['Age'].idxmin()]\n",
        "\n",
        "# Menemukan penumpang tertua\n",
        "tertua = data.loc[data['Age'].idxmax()]\n",
        "\n",
        "rata_rata_umur, termuda[['Name', 'Age']], tertua[['Name', 'Age']]"
      ],
      "metadata": {
        "colab": {
          "base_uri": "https://localhost:8080/"
        },
        "collapsed": true,
        "id": "VQelatDE7Fo7",
        "outputId": "286a2105-1122-44c8-c5e0-c1caae9615ba"
      },
      "execution_count": 100,
      "outputs": [
        {
          "output_type": "execute_result",
          "data": {
            "text/plain": [
              "(np.float64(29.69911764705882),\n",
              " Name    Thomas, Master. Assad Alexander\n",
              " Age                                0.42\n",
              " Name: 803, dtype: object,\n",
              " Name    Barkworth, Mr. Algernon Henry Wilson\n",
              " Age                                     80.0\n",
              " Name: 630, dtype: object)"
            ]
          },
          "metadata": {},
          "execution_count": 100
        }
      ]
    },
    {
      "cell_type": "markdown",
      "source": [
        "**Keterangan :** Pada Data Titanic rata rata umur penumpang kisaran 29 tahun. Penumpang termuda umur 5 bulan (bayi) dengan nama Thomas, Master. Assad Alexander. Sedangkan, penumpang tertua berumur 80 Tahun (lansia) dengan nama Barkworth, Mr. Algernon Henry Wilson."
      ],
      "metadata": {
        "id": "OdGfxIsd7t2e"
      }
    },
    {
      "cell_type": "markdown",
      "source": [
        "**d. Berapa jumlah penumpang berdasarkan kelamin? siapa yang lebih banyak dan visualisasikan**"
      ],
      "metadata": {
        "id": "8UrDk6IZ9KHb"
      }
    },
    {
      "cell_type": "code",
      "source": [
        "# Menghitung jumlah penumpang berdasarkan jenis kelamin\n",
        "jumlah_kelamin = data['Sex'].value_counts()\n",
        "\n",
        "# Menyiapkan tabel\n",
        "jumlah_kelamin_table = pd.DataFrame({'Jumlah Penumpang': jumlah_kelamin})\n",
        "jumlah_kelamin_table"
      ],
      "metadata": {
        "colab": {
          "base_uri": "https://localhost:8080/",
          "height": 143
        },
        "collapsed": true,
        "id": "MvPEhqLb8sRF",
        "outputId": "ad84ec71-5800-46af-cf7f-a515c6cf6fe9"
      },
      "execution_count": 101,
      "outputs": [
        {
          "output_type": "execute_result",
          "data": {
            "text/plain": [
              "        Jumlah Penumpang\n",
              "Sex                     \n",
              "male                 577\n",
              "female               314"
            ],
            "text/html": [
              "\n",
              "  <div id=\"df-dce725bd-ad59-47ce-bae1-6f7875140bf8\" class=\"colab-df-container\">\n",
              "    <div>\n",
              "<style scoped>\n",
              "    .dataframe tbody tr th:only-of-type {\n",
              "        vertical-align: middle;\n",
              "    }\n",
              "\n",
              "    .dataframe tbody tr th {\n",
              "        vertical-align: top;\n",
              "    }\n",
              "\n",
              "    .dataframe thead th {\n",
              "        text-align: right;\n",
              "    }\n",
              "</style>\n",
              "<table border=\"1\" class=\"dataframe\">\n",
              "  <thead>\n",
              "    <tr style=\"text-align: right;\">\n",
              "      <th></th>\n",
              "      <th>Jumlah Penumpang</th>\n",
              "    </tr>\n",
              "    <tr>\n",
              "      <th>Sex</th>\n",
              "      <th></th>\n",
              "    </tr>\n",
              "  </thead>\n",
              "  <tbody>\n",
              "    <tr>\n",
              "      <th>male</th>\n",
              "      <td>577</td>\n",
              "    </tr>\n",
              "    <tr>\n",
              "      <th>female</th>\n",
              "      <td>314</td>\n",
              "    </tr>\n",
              "  </tbody>\n",
              "</table>\n",
              "</div>\n",
              "    <div class=\"colab-df-buttons\">\n",
              "\n",
              "  <div class=\"colab-df-container\">\n",
              "    <button class=\"colab-df-convert\" onclick=\"convertToInteractive('df-dce725bd-ad59-47ce-bae1-6f7875140bf8')\"\n",
              "            title=\"Convert this dataframe to an interactive table.\"\n",
              "            style=\"display:none;\">\n",
              "\n",
              "  <svg xmlns=\"http://www.w3.org/2000/svg\" height=\"24px\" viewBox=\"0 -960 960 960\">\n",
              "    <path d=\"M120-120v-720h720v720H120Zm60-500h600v-160H180v160Zm220 220h160v-160H400v160Zm0 220h160v-160H400v160ZM180-400h160v-160H180v160Zm440 0h160v-160H620v160ZM180-180h160v-160H180v160Zm440 0h160v-160H620v160Z\"/>\n",
              "  </svg>\n",
              "    </button>\n",
              "\n",
              "  <style>\n",
              "    .colab-df-container {\n",
              "      display:flex;\n",
              "      gap: 12px;\n",
              "    }\n",
              "\n",
              "    .colab-df-convert {\n",
              "      background-color: #E8F0FE;\n",
              "      border: none;\n",
              "      border-radius: 50%;\n",
              "      cursor: pointer;\n",
              "      display: none;\n",
              "      fill: #1967D2;\n",
              "      height: 32px;\n",
              "      padding: 0 0 0 0;\n",
              "      width: 32px;\n",
              "    }\n",
              "\n",
              "    .colab-df-convert:hover {\n",
              "      background-color: #E2EBFA;\n",
              "      box-shadow: 0px 1px 2px rgba(60, 64, 67, 0.3), 0px 1px 3px 1px rgba(60, 64, 67, 0.15);\n",
              "      fill: #174EA6;\n",
              "    }\n",
              "\n",
              "    .colab-df-buttons div {\n",
              "      margin-bottom: 4px;\n",
              "    }\n",
              "\n",
              "    [theme=dark] .colab-df-convert {\n",
              "      background-color: #3B4455;\n",
              "      fill: #D2E3FC;\n",
              "    }\n",
              "\n",
              "    [theme=dark] .colab-df-convert:hover {\n",
              "      background-color: #434B5C;\n",
              "      box-shadow: 0px 1px 3px 1px rgba(0, 0, 0, 0.15);\n",
              "      filter: drop-shadow(0px 1px 2px rgba(0, 0, 0, 0.3));\n",
              "      fill: #FFFFFF;\n",
              "    }\n",
              "  </style>\n",
              "\n",
              "    <script>\n",
              "      const buttonEl =\n",
              "        document.querySelector('#df-dce725bd-ad59-47ce-bae1-6f7875140bf8 button.colab-df-convert');\n",
              "      buttonEl.style.display =\n",
              "        google.colab.kernel.accessAllowed ? 'block' : 'none';\n",
              "\n",
              "      async function convertToInteractive(key) {\n",
              "        const element = document.querySelector('#df-dce725bd-ad59-47ce-bae1-6f7875140bf8');\n",
              "        const dataTable =\n",
              "          await google.colab.kernel.invokeFunction('convertToInteractive',\n",
              "                                                    [key], {});\n",
              "        if (!dataTable) return;\n",
              "\n",
              "        const docLinkHtml = 'Like what you see? Visit the ' +\n",
              "          '<a target=\"_blank\" href=https://colab.research.google.com/notebooks/data_table.ipynb>data table notebook</a>'\n",
              "          + ' to learn more about interactive tables.';\n",
              "        element.innerHTML = '';\n",
              "        dataTable['output_type'] = 'display_data';\n",
              "        await google.colab.output.renderOutput(dataTable, element);\n",
              "        const docLink = document.createElement('div');\n",
              "        docLink.innerHTML = docLinkHtml;\n",
              "        element.appendChild(docLink);\n",
              "      }\n",
              "    </script>\n",
              "  </div>\n",
              "\n",
              "\n",
              "<div id=\"df-504edad2-32d6-486e-b66b-51951ad71d09\">\n",
              "  <button class=\"colab-df-quickchart\" onclick=\"quickchart('df-504edad2-32d6-486e-b66b-51951ad71d09')\"\n",
              "            title=\"Suggest charts\"\n",
              "            style=\"display:none;\">\n",
              "\n",
              "<svg xmlns=\"http://www.w3.org/2000/svg\" height=\"24px\"viewBox=\"0 0 24 24\"\n",
              "     width=\"24px\">\n",
              "    <g>\n",
              "        <path d=\"M19 3H5c-1.1 0-2 .9-2 2v14c0 1.1.9 2 2 2h14c1.1 0 2-.9 2-2V5c0-1.1-.9-2-2-2zM9 17H7v-7h2v7zm4 0h-2V7h2v10zm4 0h-2v-4h2v4z\"/>\n",
              "    </g>\n",
              "</svg>\n",
              "  </button>\n",
              "\n",
              "<style>\n",
              "  .colab-df-quickchart {\n",
              "      --bg-color: #E8F0FE;\n",
              "      --fill-color: #1967D2;\n",
              "      --hover-bg-color: #E2EBFA;\n",
              "      --hover-fill-color: #174EA6;\n",
              "      --disabled-fill-color: #AAA;\n",
              "      --disabled-bg-color: #DDD;\n",
              "  }\n",
              "\n",
              "  [theme=dark] .colab-df-quickchart {\n",
              "      --bg-color: #3B4455;\n",
              "      --fill-color: #D2E3FC;\n",
              "      --hover-bg-color: #434B5C;\n",
              "      --hover-fill-color: #FFFFFF;\n",
              "      --disabled-bg-color: #3B4455;\n",
              "      --disabled-fill-color: #666;\n",
              "  }\n",
              "\n",
              "  .colab-df-quickchart {\n",
              "    background-color: var(--bg-color);\n",
              "    border: none;\n",
              "    border-radius: 50%;\n",
              "    cursor: pointer;\n",
              "    display: none;\n",
              "    fill: var(--fill-color);\n",
              "    height: 32px;\n",
              "    padding: 0;\n",
              "    width: 32px;\n",
              "  }\n",
              "\n",
              "  .colab-df-quickchart:hover {\n",
              "    background-color: var(--hover-bg-color);\n",
              "    box-shadow: 0 1px 2px rgba(60, 64, 67, 0.3), 0 1px 3px 1px rgba(60, 64, 67, 0.15);\n",
              "    fill: var(--button-hover-fill-color);\n",
              "  }\n",
              "\n",
              "  .colab-df-quickchart-complete:disabled,\n",
              "  .colab-df-quickchart-complete:disabled:hover {\n",
              "    background-color: var(--disabled-bg-color);\n",
              "    fill: var(--disabled-fill-color);\n",
              "    box-shadow: none;\n",
              "  }\n",
              "\n",
              "  .colab-df-spinner {\n",
              "    border: 2px solid var(--fill-color);\n",
              "    border-color: transparent;\n",
              "    border-bottom-color: var(--fill-color);\n",
              "    animation:\n",
              "      spin 1s steps(1) infinite;\n",
              "  }\n",
              "\n",
              "  @keyframes spin {\n",
              "    0% {\n",
              "      border-color: transparent;\n",
              "      border-bottom-color: var(--fill-color);\n",
              "      border-left-color: var(--fill-color);\n",
              "    }\n",
              "    20% {\n",
              "      border-color: transparent;\n",
              "      border-left-color: var(--fill-color);\n",
              "      border-top-color: var(--fill-color);\n",
              "    }\n",
              "    30% {\n",
              "      border-color: transparent;\n",
              "      border-left-color: var(--fill-color);\n",
              "      border-top-color: var(--fill-color);\n",
              "      border-right-color: var(--fill-color);\n",
              "    }\n",
              "    40% {\n",
              "      border-color: transparent;\n",
              "      border-right-color: var(--fill-color);\n",
              "      border-top-color: var(--fill-color);\n",
              "    }\n",
              "    60% {\n",
              "      border-color: transparent;\n",
              "      border-right-color: var(--fill-color);\n",
              "    }\n",
              "    80% {\n",
              "      border-color: transparent;\n",
              "      border-right-color: var(--fill-color);\n",
              "      border-bottom-color: var(--fill-color);\n",
              "    }\n",
              "    90% {\n",
              "      border-color: transparent;\n",
              "      border-bottom-color: var(--fill-color);\n",
              "    }\n",
              "  }\n",
              "</style>\n",
              "\n",
              "  <script>\n",
              "    async function quickchart(key) {\n",
              "      const quickchartButtonEl =\n",
              "        document.querySelector('#' + key + ' button');\n",
              "      quickchartButtonEl.disabled = true;  // To prevent multiple clicks.\n",
              "      quickchartButtonEl.classList.add('colab-df-spinner');\n",
              "      try {\n",
              "        const charts = await google.colab.kernel.invokeFunction(\n",
              "            'suggestCharts', [key], {});\n",
              "      } catch (error) {\n",
              "        console.error('Error during call to suggestCharts:', error);\n",
              "      }\n",
              "      quickchartButtonEl.classList.remove('colab-df-spinner');\n",
              "      quickchartButtonEl.classList.add('colab-df-quickchart-complete');\n",
              "    }\n",
              "    (() => {\n",
              "      let quickchartButtonEl =\n",
              "        document.querySelector('#df-504edad2-32d6-486e-b66b-51951ad71d09 button');\n",
              "      quickchartButtonEl.style.display =\n",
              "        google.colab.kernel.accessAllowed ? 'block' : 'none';\n",
              "    })();\n",
              "  </script>\n",
              "</div>\n",
              "\n",
              "  <div id=\"id_df7beac0-9b09-4311-95ee-d1acbf7f6880\">\n",
              "    <style>\n",
              "      .colab-df-generate {\n",
              "        background-color: #E8F0FE;\n",
              "        border: none;\n",
              "        border-radius: 50%;\n",
              "        cursor: pointer;\n",
              "        display: none;\n",
              "        fill: #1967D2;\n",
              "        height: 32px;\n",
              "        padding: 0 0 0 0;\n",
              "        width: 32px;\n",
              "      }\n",
              "\n",
              "      .colab-df-generate:hover {\n",
              "        background-color: #E2EBFA;\n",
              "        box-shadow: 0px 1px 2px rgba(60, 64, 67, 0.3), 0px 1px 3px 1px rgba(60, 64, 67, 0.15);\n",
              "        fill: #174EA6;\n",
              "      }\n",
              "\n",
              "      [theme=dark] .colab-df-generate {\n",
              "        background-color: #3B4455;\n",
              "        fill: #D2E3FC;\n",
              "      }\n",
              "\n",
              "      [theme=dark] .colab-df-generate:hover {\n",
              "        background-color: #434B5C;\n",
              "        box-shadow: 0px 1px 3px 1px rgba(0, 0, 0, 0.15);\n",
              "        filter: drop-shadow(0px 1px 2px rgba(0, 0, 0, 0.3));\n",
              "        fill: #FFFFFF;\n",
              "      }\n",
              "    </style>\n",
              "    <button class=\"colab-df-generate\" onclick=\"generateWithVariable('jumlah_kelamin_table')\"\n",
              "            title=\"Generate code using this dataframe.\"\n",
              "            style=\"display:none;\">\n",
              "\n",
              "  <svg xmlns=\"http://www.w3.org/2000/svg\" height=\"24px\"viewBox=\"0 0 24 24\"\n",
              "       width=\"24px\">\n",
              "    <path d=\"M7,19H8.4L18.45,9,17,7.55,7,17.6ZM5,21V16.75L18.45,3.32a2,2,0,0,1,2.83,0l1.4,1.43a1.91,1.91,0,0,1,.58,1.4,1.91,1.91,0,0,1-.58,1.4L9.25,21ZM18.45,9,17,7.55Zm-12,3A5.31,5.31,0,0,0,4.9,8.1,5.31,5.31,0,0,0,1,6.5,5.31,5.31,0,0,0,4.9,4.9,5.31,5.31,0,0,0,6.5,1,5.31,5.31,0,0,0,8.1,4.9,5.31,5.31,0,0,0,12,6.5,5.46,5.46,0,0,0,6.5,12Z\"/>\n",
              "  </svg>\n",
              "    </button>\n",
              "    <script>\n",
              "      (() => {\n",
              "      const buttonEl =\n",
              "        document.querySelector('#id_df7beac0-9b09-4311-95ee-d1acbf7f6880 button.colab-df-generate');\n",
              "      buttonEl.style.display =\n",
              "        google.colab.kernel.accessAllowed ? 'block' : 'none';\n",
              "\n",
              "      buttonEl.onclick = () => {\n",
              "        google.colab.notebook.generateWithVariable('jumlah_kelamin_table');\n",
              "      }\n",
              "      })();\n",
              "    </script>\n",
              "  </div>\n",
              "\n",
              "    </div>\n",
              "  </div>\n"
            ],
            "application/vnd.google.colaboratory.intrinsic+json": {
              "type": "dataframe",
              "variable_name": "jumlah_kelamin_table",
              "summary": "{\n  \"name\": \"jumlah_kelamin_table\",\n  \"rows\": 2,\n  \"fields\": [\n    {\n      \"column\": \"Sex\",\n      \"properties\": {\n        \"dtype\": \"string\",\n        \"num_unique_values\": 2,\n        \"samples\": [\n          \"female\",\n          \"male\"\n        ],\n        \"semantic_type\": \"\",\n        \"description\": \"\"\n      }\n    },\n    {\n      \"column\": \"Jumlah Penumpang\",\n      \"properties\": {\n        \"dtype\": \"number\",\n        \"std\": 185,\n        \"min\": 314,\n        \"max\": 577,\n        \"num_unique_values\": 2,\n        \"samples\": [\n          314,\n          577\n        ],\n        \"semantic_type\": \"\",\n        \"description\": \"\"\n      }\n    }\n  ]\n}"
            }
          },
          "metadata": {},
          "execution_count": 101
        }
      ]
    },
    {
      "cell_type": "markdown",
      "source": [
        "**Keterangan :** Untuk jumlah penumpang terbanyak diliat dari jenis kelamin Laki-Laki. Saya visualisasi menggunakan Pie Chart untuk melihat presentase penumpang kapal titanic berdasarkan jenis kelamin."
      ],
      "metadata": {
        "id": "E0uYBg5X9l3S"
      }
    },
    {
      "cell_type": "code",
      "source": [
        "# Membuat pie chart jumlah penumpang berdasarkan jenis kelamin\n",
        "plt.figure(figsize=(4,4))\n",
        "plt.pie(jumlah_kelamin, labels=['Laki-laki', 'Perempuan'], autopct='%1.1f%%', colors=['skyblue', 'lightpink'], startangle=140)\n",
        "plt.title('Persentase Penumpang Berdasarkan Jenis Kelamin')\n",
        "plt.axis('equal')\n",
        "plt.show()"
      ],
      "metadata": {
        "colab": {
          "base_uri": "https://localhost:8080/",
          "height": 371
        },
        "collapsed": true,
        "id": "TSxqOJun9XpA",
        "outputId": "57527b73-5366-477f-9fda-f358ecf509f2"
      },
      "execution_count": 103,
      "outputs": [
        {
          "output_type": "display_data",
          "data": {
            "text/plain": [
              "<Figure size 400x400 with 1 Axes>"
            ],
            "image/png": "[encoded data removed]"
          },
          "metadata": {}
        }
      ]
    },
    {
      "cell_type": "markdown",
      "source": [
        "**e. Tampilkan jumlah penumpang  berdasarkan kelas (pclass) dan berapa persen total data yang berada di kelas 1?**"
      ],
      "metadata": {
        "id": "D_LGoFyS-Jk9"
      }
    },
    {
      "cell_type": "code",
      "source": [
        "# Menghitung jumlah penumpang berdasarkan kelas\n",
        "jumlah_pclass = data['Pclass'].value_counts().sort_index()\n",
        "\n",
        "# Menghitung persentase penumpang di kelas 1\n",
        "persentase_kelas1 = (jumlah_pclass[1] / jumlah_penumpang) * 100\n",
        "\n",
        "# Tabel hasil\n",
        "jumlah_pclass_table = pd.DataFrame({'Jumlah Penumpang': jumlah_pclass})\n",
        "jumlah_pclass_table, persentase_kelas1"
      ],
      "metadata": {
        "colab": {
          "base_uri": "https://localhost:8080/"
        },
        "id": "fmxuhD1B-PgB",
        "outputId": "92032af5-1cc7-4afe-b2e0-4f1b42792aa8"
      },
      "execution_count": 104,
      "outputs": [
        {
          "output_type": "execute_result",
          "data": {
            "text/plain": [
              "(        Jumlah Penumpang\n",
              " Pclass                  \n",
              " 1                    216\n",
              " 2                    184\n",
              " 3                    491,\n",
              " np.float64(24.242424242424242))"
            ]
          },
          "metadata": {},
          "execution_count": 104
        }
      ]
    },
    {
      "cell_type": "code",
      "source": [
        "# Membuat grafik jumlah penumpang berdasarkan kelas\n",
        "plt.figure(figsize=(4,4))\n",
        "sns.countplot(x='Pclass', data=data, palette='pastel')\n",
        "plt.title('Jumlah Penumpang Berdasarkan Kelas Tiket')\n",
        "plt.xlabel('Kelas')\n",
        "plt.ylabel('Jumlah Penumpang')\n",
        "plt.xticks([0, 1, 2], ['Kelas 1', 'Kelas 2', 'Kelas 3'])\n",
        "plt.show()"
      ],
      "metadata": {
        "colab": {
          "base_uri": "https://localhost:8080/",
          "height": 517
        },
        "collapsed": true,
        "id": "3UlPMcSI_YF8",
        "outputId": "505e62b9-85c8-4522-e6ed-648420957116"
      },
      "execution_count": 106,
      "outputs": [
        {
          "output_type": "stream",
          "name": "stderr",
          "text": [
            "<ipython-input-106-77ce0fd94253>:3: FutureWarning: \n",
            "\n",
            "Passing `palette` without assigning `hue` is deprecated and will be removed in v0.14.0. Assign the `x` variable to `hue` and set `legend=False` for the same effect.\n",
            "\n",
            "  sns.countplot(x='Pclass', data=data, palette='pastel')\n"
          ]
        },
        {
          "output_type": "display_data",
          "data": {
            "text/plain": [
              "<Figure size 400x400 with 1 Axes>"
            ],
            "image/png": "[encoded data removed]"
          },
          "metadata": {}
        }
      ]
    },
    {
      "cell_type": "markdown",
      "source": [
        "**Keterangan :** Jumlah penumpang di kelas  1 sebanyak 216 Orang. dari hasil visualisasi penumpang kelas 1 sekitar  (24.24%) dari total penumpang keseluruhanya."
      ],
      "metadata": {
        "id": "JWyLzUiL_e2b"
      }
    },
    {
      "cell_type": "markdown",
      "source": [
        "**SOAL 2 (Preprocessing)**"
      ],
      "metadata": {
        "id": "U-tDLK7oAQKp"
      }
    },
    {
      "cell_type": "markdown",
      "source": [
        "**a. Apakah terdapat missing value pada data?**"
      ],
      "metadata": {
        "id": "nAbTKgtWBELY"
      }
    },
    {
      "cell_type": "code",
      "source": [
        "# Cek missing value di setiap kolom\n",
        "missing_values = data.isnull().sum()\n",
        "missing_values"
      ],
      "metadata": {
        "colab": {
          "base_uri": "https://localhost:8080/",
          "height": 460
        },
        "collapsed": true,
        "id": "uT0_9SrD_cuc",
        "outputId": "8e337e6d-9756-4e46-d9d9-83ca4faddee2"
      },
      "execution_count": 107,
      "outputs": [
        {
          "output_type": "execute_result",
          "data": {
            "text/plain": [
              "PassengerId      0\n",
              "Survived         0\n",
              "Pclass           0\n",
              "Name             0\n",
              "Sex              0\n",
              "Age            177\n",
              "SibSp            0\n",
              "Parch            0\n",
              "Ticket           0\n",
              "Fare             0\n",
              "Cabin          687\n",
              "Embarked         2\n",
              "dtype: int64"
            ],
            "text/html": [
              "<div>\n",
              "<style scoped>\n",
              "    .dataframe tbody tr th:only-of-type {\n",
              "        vertical-align: middle;\n",
              "    }\n",
              "\n",
              "    .dataframe tbody tr th {\n",
              "        vertical-align: top;\n",
              "    }\n",
              "\n",
              "    .dataframe thead th {\n",
              "        text-align: right;\n",
              "    }\n",
              "</style>\n",
              "<table border=\"1\" class=\"dataframe\">\n",
              "  <thead>\n",
              "    <tr style=\"text-align: right;\">\n",
              "      <th></th>\n",
              "      <th>0</th>\n",
              "    </tr>\n",
              "  </thead>\n",
              "  <tbody>\n",
              "    <tr>\n",
              "      <th>PassengerId</th>\n",
              "      <td>0</td>\n",
              "    </tr>\n",
              "    <tr>\n",
              "      <th>Survived</th>\n",
              "      <td>0</td>\n",
              "    </tr>\n",
              "    <tr>\n",
              "      <th>Pclass</th>\n",
              "      <td>0</td>\n",
              "    </tr>\n",
              "    <tr>\n",
              "      <th>Name</th>\n",
              "      <td>0</td>\n",
              "    </tr>\n",
              "    <tr>\n",
              "      <th>Sex</th>\n",
              "      <td>0</td>\n",
              "    </tr>\n",
              "    <tr>\n",
              "      <th>Age</th>\n",
              "      <td>177</td>\n",
              "    </tr>\n",
              "    <tr>\n",
              "      <th>SibSp</th>\n",
              "      <td>0</td>\n",
              "    </tr>\n",
              "    <tr>\n",
              "      <th>Parch</th>\n",
              "      <td>0</td>\n",
              "    </tr>\n",
              "    <tr>\n",
              "      <th>Ticket</th>\n",
              "      <td>0</td>\n",
              "    </tr>\n",
              "    <tr>\n",
              "      <th>Fare</th>\n",
              "      <td>0</td>\n",
              "    </tr>\n",
              "    <tr>\n",
              "      <th>Cabin</th>\n",
              "      <td>687</td>\n",
              "    </tr>\n",
              "    <tr>\n",
              "      <th>Embarked</th>\n",
              "      <td>2</td>\n",
              "    </tr>\n",
              "  </tbody>\n",
              "</table>\n",
              "</div><br><label><b>dtype:</b> int64</label>"
            ]
          },
          "metadata": {},
          "execution_count": 107
        }
      ]
    },
    {
      "cell_type": "markdown",
      "source": [
        "**Keterangan :** Dari data diatas terdapat Missing Value pada kolom Cabin, Age dan Embarked."
      ],
      "metadata": {
        "id": "bNYSJiRLBXJy"
      }
    },
    {
      "cell_type": "markdown",
      "source": [
        "**b. Jika iya, apa yang anda lakukan?**"
      ],
      "metadata": {
        "id": "JEyKmgrYBhmH"
      }
    },
    {
      "cell_type": "code",
      "source": [
        "# Penanganan missing value pada data Titanic\n",
        "\n",
        "# 1. Age -> Isi dengan median (karena distribusi skewed)\n",
        "data['Age'].fillna(data['Age'].median(), inplace=True)\n",
        "\n",
        "# 2. Cabin -> Buat fitur baru \"HasCabin\" (0 = tidak ada, 1 = ada)\n",
        "data['HasCabin'] = data['Cabin'].apply(lambda x: 0 if pd.isnull(x) else 1)\n",
        "\n",
        "# 3. Embarked -> Isi dengan modus\n",
        "data['Embarked'].fillna(data['Embarked'].mode()[0], inplace=True)\n",
        "\n",
        "# Verifikasi ulang apakah masih ada missing value\n",
        "missing_after_fix = data.isnull().sum()\n",
        "missing_after_fix[missing_after_fix > 0]"
      ],
      "metadata": {
        "colab": {
          "base_uri": "https://localhost:8080/",
          "height": 378
        },
        "collapsed": true,
        "id": "pVygGdgrB3jZ",
        "outputId": "adca2e29-27ed-445e-82ad-1f01dadcb118"
      },
      "execution_count": 108,
      "outputs": [
        {
          "output_type": "stream",
          "name": "stderr",
          "text": [
            "<ipython-input-108-3a51313cbff5>:4: FutureWarning: A value is trying to be set on a copy of a DataFrame or Series through chained assignment using an inplace method.\n",
            "The behavior will change in pandas 3.0. This inplace method will never work because the intermediate object on which we are setting values always behaves as a copy.\n",
            "\n",
            "For example, when doing 'df[col].method(value, inplace=True)', try using 'df.method({col: value}, inplace=True)' or df[col] = df[col].method(value) instead, to perform the operation inplace on the original object.\n",
            "\n",
            "\n",
            "  data['Age'].fillna(data['Age'].median(), inplace=True)\n",
            "<ipython-input-108-3a51313cbff5>:10: FutureWarning: A value is trying to be set on a copy of a DataFrame or Series through chained assignment using an inplace method.\n",
            "The behavior will change in pandas 3.0. This inplace method will never work because the intermediate object on which we are setting values always behaves as a copy.\n",
            "\n",
            "For example, when doing 'df[col].method(value, inplace=True)', try using 'df.method({col: value}, inplace=True)' or df[col] = df[col].method(value) instead, to perform the operation inplace on the original object.\n",
            "\n",
            "\n",
            "  data['Embarked'].fillna(data['Embarked'].mode()[0], inplace=True)\n"
          ]
        },
        {
          "output_type": "execute_result",
          "data": {
            "text/plain": [
              "Cabin    687\n",
              "dtype: int64"
            ],
            "text/html": [
              "<div>\n",
              "<style scoped>\n",
              "    .dataframe tbody tr th:only-of-type {\n",
              "        vertical-align: middle;\n",
              "    }\n",
              "\n",
              "    .dataframe tbody tr th {\n",
              "        vertical-align: top;\n",
              "    }\n",
              "\n",
              "    .dataframe thead th {\n",
              "        text-align: right;\n",
              "    }\n",
              "</style>\n",
              "<table border=\"1\" class=\"dataframe\">\n",
              "  <thead>\n",
              "    <tr style=\"text-align: right;\">\n",
              "      <th></th>\n",
              "      <th>0</th>\n",
              "    </tr>\n",
              "  </thead>\n",
              "  <tbody>\n",
              "    <tr>\n",
              "      <th>Cabin</th>\n",
              "      <td>687</td>\n",
              "    </tr>\n",
              "  </tbody>\n",
              "</table>\n",
              "</div><br><label><b>dtype:</b> int64</label>"
            ]
          },
          "metadata": {},
          "execution_count": 108
        }
      ]
    },
    {
      "cell_type": "markdown",
      "source": [
        "**c. Apakah terdapat outlier pada data? Apa itu Outlier?**"
      ],
      "metadata": {
        "id": "_7XxSTIdC2-C"
      }
    },
    {
      "cell_type": "code",
      "source": [
        "plt.figure(figsize=(12,5))\n",
        "\n",
        "# Boxplot Age\n",
        "plt.subplot(1,2,1)\n",
        "sns.boxplot(x=data['Age'], color='skyblue')\n",
        "plt.title('Outlier pada Umur (Age)')\n",
        "\n",
        "# Boxplot Fare\n",
        "plt.subplot(1,2,2)\n",
        "sns.boxplot(x=data['Fare'], color='lightgreen')\n",
        "plt.title('Outlier pada Harga Tiket (Fare)')\n",
        "\n",
        "plt.tight_layout()\n",
        "plt.show()"
      ],
      "metadata": {
        "colab": {
          "base_uri": "https://localhost:8080/",
          "height": 459
        },
        "collapsed": true,
        "id": "3ASqWetkC9I8",
        "outputId": "de996067-6984-48e3-b361-575f50ff14ed"
      },
      "execution_count": 111,
      "outputs": [
        {
          "output_type": "display_data",
          "data": {
            "text/plain": [
              "<Figure size 1200x500 with 2 Axes>"
            ],
            "image/png": "[encoded data removed]"
          },
          "metadata": {}
        }
      ]
    },
    {
      "cell_type": "markdown",
      "source": [
        "**Keterangan :** Dari hasil analisis terdapat Outlier (Jauh di luar rentang nilai mayoritas data lainnya) pada kolom Age dan fare terkait umur penumpang termuda dan tertua. dan juga terdapat harga tiket yang sangat tinggi  £300, sementara sebagian besar penumpang hanya membayar tiket di bawah £100."
      ],
      "metadata": {
        "id": "EIs9HsdHDKs3"
      }
    },
    {
      "cell_type": "markdown",
      "source": [
        "d. Apakah outlier perlu diatasi dan bagaimana caranya?"
      ],
      "metadata": {
        "id": "31LMMgIVEOF5"
      }
    },
    {
      "cell_type": "code",
      "source": [
        "# Hitung Q1, Q3, dan IQR\n",
        "Q1_fare = data['Fare'].quantile(0.25)\n",
        "Q3_fare = data['Fare'].quantile(0.75)\n",
        "IQR_fare = Q3_fare - Q1_fare\n",
        "\n",
        "# Tentukan batas bawah dan atas\n",
        "lower_bound_fare = Q1_fare - 1.5 * IQR_fare\n",
        "upper_bound_fare = Q3_fare + 1.5 * IQR_fare\n",
        "\n",
        "# Hapus outlier pada kolom Fare\n",
        "data_iqr_cleaned = data[(data['Fare'] >= lower_bound_fare) & (data['Fare'] <= upper_bound_fare)]\n",
        "\n",
        "# 2. Winsorizing Fare\n",
        "from scipy.stats.mstats import winsorize\n",
        "data['Fare_winsor'] = winsorize(data['Fare'], limits=[0.05, 0.05])\n",
        "\n",
        "# 3. Log Transform Fare\n",
        "import numpy as np\n",
        "data['Fare_log'] = np.log1p(data['Fare'])\n",
        "\n",
        "\n",
        "# Bandingkan data asli, winsorized, dan log-transformed\n",
        "data[['Fare', 'Fare_winsor', 'Fare_log']].describe()\n"
      ],
      "metadata": {
        "colab": {
          "base_uri": "https://localhost:8080/",
          "height": 300
        },
        "collapsed": true,
        "id": "0Lyg2HgUEMBd",
        "outputId": "707f6a62-1ff9-4dba-ce03-3e068cf4fd98"
      },
      "execution_count": 112,
      "outputs": [
        {
          "output_type": "execute_result",
          "data": {
            "text/plain": [
              "             Fare  Fare_winsor    Fare_log\n",
              "count  891.000000   891.000000  891.000000\n",
              "mean    32.204208    27.917966    2.962246\n",
              "std     49.693429    29.288440    0.969048\n",
              "min      0.000000     7.225000    0.000000\n",
              "25%      7.910400     7.910400    2.187218\n",
              "50%     14.454200    14.454200    2.737881\n",
              "75%     31.000000    31.000000    3.465736\n",
              "max    512.329200   113.275000    6.240917"
            ],
            "text/html": [
              "\n",
              "  <div id=\"df-8aa386d4-2416-4cc0-85f8-703c0fd91d69\" class=\"colab-df-container\">\n",
              "    <div>\n",
              "<style scoped>\n",
              "    .dataframe tbody tr th:only-of-type {\n",
              "        vertical-align: middle;\n",
              "    }\n",
              "\n",
              "    .dataframe tbody tr th {\n",
              "        vertical-align: top;\n",
              "    }\n",
              "\n",
              "    .dataframe thead th {\n",
              "        text-align: right;\n",
              "    }\n",
              "</style>\n",
              "<table border=\"1\" class=\"dataframe\">\n",
              "  <thead>\n",
              "    <tr style=\"text-align: right;\">\n",
              "      <th></th>\n",
              "      <th>Fare</th>\n",
              "      <th>Fare_winsor</th>\n",
              "      <th>Fare_log</th>\n",
              "    </tr>\n",
              "  </thead>\n",
              "  <tbody>\n",
              "    <tr>\n",
              "      <th>count</th>\n",
              "      <td>891.000000</td>\n",
              "      <td>891.000000</td>\n",
              "      <td>891.000000</td>\n",
              "    </tr>\n",
              "    <tr>\n",
              "      <th>mean</th>\n",
              "      <td>32.204208</td>\n",
              "      <td>27.917966</td>\n",
              "      <td>2.962246</td>\n",
              "    </tr>\n",
              "    <tr>\n",
              "      <th>std</th>\n",
              "      <td>49.693429</td>\n",
              "      <td>29.288440</td>\n",
              "      <td>0.969048</td>\n",
              "    </tr>\n",
              "    <tr>\n",
              "      <th>min</th>\n",
              "      <td>0.000000</td>\n",
              "      <td>7.225000</td>\n",
              "      <td>0.000000</td>\n",
              "    </tr>\n",
              "    <tr>\n",
              "      <th>25%</th>\n",
              "      <td>7.910400</td>\n",
              "      <td>7.910400</td>\n",
              "      <td>2.187218</td>\n",
              "    </tr>\n",
              "    <tr>\n",
              "      <th>50%</th>\n",
              "      <td>14.454200</td>\n",
              "      <td>14.454200</td>\n",
              "      <td>2.737881</td>\n",
              "    </tr>\n",
              "    <tr>\n",
              "      <th>75%</th>\n",
              "      <td>31.000000</td>\n",
              "      <td>31.000000</td>\n",
              "      <td>3.465736</td>\n",
              "    </tr>\n",
              "    <tr>\n",
              "      <th>max</th>\n",
              "      <td>512.329200</td>\n",
              "      <td>113.275000</td>\n",
              "      <td>6.240917</td>\n",
              "    </tr>\n",
              "  </tbody>\n",
              "</table>\n",
              "</div>\n",
              "    <div class=\"colab-df-buttons\">\n",
              "\n",
              "  <div class=\"colab-df-container\">\n",
              "    <button class=\"colab-df-convert\" onclick=\"convertToInteractive('df-8aa386d4-2416-4cc0-85f8-703c0fd91d69')\"\n",
              "            title=\"Convert this dataframe to an interactive table.\"\n",
              "            style=\"display:none;\">\n",
              "\n",
              "  <svg xmlns=\"http://www.w3.org/2000/svg\" height=\"24px\" viewBox=\"0 -960 960 960\">\n",
              "    <path d=\"M120-120v-720h720v720H120Zm60-500h600v-160H180v160Zm220 220h160v-160H400v160Zm0 220h160v-160H400v160ZM180-400h160v-160H180v160Zm440 0h160v-160H620v160ZM180-180h160v-160H180v160Zm440 0h160v-160H620v160Z\"/>\n",
              "  </svg>\n",
              "    </button>\n",
              "\n",
              "  <style>\n",
              "    .colab-df-container {\n",
              "      display:flex;\n",
              "      gap: 12px;\n",
              "    }\n",
              "\n",
              "    .colab-df-convert {\n",
              "      background-color: #E8F0FE;\n",
              "      border: none;\n",
              "      border-radius: 50%;\n",
              "      cursor: pointer;\n",
              "      display: none;\n",
              "      fill: #1967D2;\n",
              "      height: 32px;\n",
              "      padding: 0 0 0 0;\n",
              "      width: 32px;\n",
              "    }\n",
              "\n",
              "    .colab-df-convert:hover {\n",
              "      background-color: #E2EBFA;\n",
              "      box-shadow: 0px 1px 2px rgba(60, 64, 67, 0.3), 0px 1px 3px 1px rgba(60, 64, 67, 0.15);\n",
              "      fill: #174EA6;\n",
              "    }\n",
              "\n",
              "    .colab-df-buttons div {\n",
              "      margin-bottom: 4px;\n",
              "    }\n",
              "\n",
              "    [theme=dark] .colab-df-convert {\n",
              "      background-color: #3B4455;\n",
              "      fill: #D2E3FC;\n",
              "    }\n",
              "\n",
              "    [theme=dark] .colab-df-convert:hover {\n",
              "      background-color: #434B5C;\n",
              "      box-shadow: 0px 1px 3px 1px rgba(0, 0, 0, 0.15);\n",
              "      filter: drop-shadow(0px 1px 2px rgba(0, 0, 0, 0.3));\n",
              "      fill: #FFFFFF;\n",
              "    }\n",
              "  </style>\n",
              "\n",
              "    <script>\n",
              "      const buttonEl =\n",
              "        document.querySelector('#df-8aa386d4-2416-4cc0-85f8-703c0fd91d69 button.colab-df-convert');\n",
              "      buttonEl.style.display =\n",
              "        google.colab.kernel.accessAllowed ? 'block' : 'none';\n",
              "\n",
              "      async function convertToInteractive(key) {\n",
              "        const element = document.querySelector('#df-8aa386d4-2416-4cc0-85f8-703c0fd91d69');\n",
              "        const dataTable =\n",
              "          await google.colab.kernel.invokeFunction('convertToInteractive',\n",
              "                                                    [key], {});\n",
              "        if (!dataTable) return;\n",
              "\n",
              "        const docLinkHtml = 'Like what you see? Visit the ' +\n",
              "          '<a target=\"_blank\" href=https://colab.research.google.com/notebooks/data_table.ipynb>data table notebook</a>'\n",
              "          + ' to learn more about interactive tables.';\n",
              "        element.innerHTML = '';\n",
              "        dataTable['output_type'] = 'display_data';\n",
              "        await google.colab.output.renderOutput(dataTable, element);\n",
              "        const docLink = document.createElement('div');\n",
              "        docLink.innerHTML = docLinkHtml;\n",
              "        element.appendChild(docLink);\n",
              "      }\n",
              "    </script>\n",
              "  </div>\n",
              "\n",
              "\n",
              "<div id=\"df-94543c32-44f7-432f-a898-9a9fc1877cfb\">\n",
              "  <button class=\"colab-df-quickchart\" onclick=\"quickchart('df-94543c32-44f7-432f-a898-9a9fc1877cfb')\"\n",
              "            title=\"Suggest charts\"\n",
              "            style=\"display:none;\">\n",
              "\n",
              "<svg xmlns=\"http://www.w3.org/2000/svg\" height=\"24px\"viewBox=\"0 0 24 24\"\n",
              "     width=\"24px\">\n",
              "    <g>\n",
              "        <path d=\"M19 3H5c-1.1 0-2 .9-2 2v14c0 1.1.9 2 2 2h14c1.1 0 2-.9 2-2V5c0-1.1-.9-2-2-2zM9 17H7v-7h2v7zm4 0h-2V7h2v10zm4 0h-2v-4h2v4z\"/>\n",
              "    </g>\n",
              "</svg>\n",
              "  </button>\n",
              "\n",
              "<style>\n",
              "  .colab-df-quickchart {\n",
              "      --bg-color: #E8F0FE;\n",
              "      --fill-color: #1967D2;\n",
              "      --hover-bg-color: #E2EBFA;\n",
              "      --hover-fill-color: #174EA6;\n",
              "      --disabled-fill-color: #AAA;\n",
              "      --disabled-bg-color: #DDD;\n",
              "  }\n",
              "\n",
              "  [theme=dark] .colab-df-quickchart {\n",
              "      --bg-color: #3B4455;\n",
              "      --fill-color: #D2E3FC;\n",
              "      --hover-bg-color: #434B5C;\n",
              "      --hover-fill-color: #FFFFFF;\n",
              "      --disabled-bg-color: #3B4455;\n",
              "      --disabled-fill-color: #666;\n",
              "  }\n",
              "\n",
              "  .colab-df-quickchart {\n",
              "    background-color: var(--bg-color);\n",
              "    border: none;\n",
              "    border-radius: 50%;\n",
              "    cursor: pointer;\n",
              "    display: none;\n",
              "    fill: var(--fill-color);\n",
              "    height: 32px;\n",
              "    padding: 0;\n",
              "    width: 32px;\n",
              "  }\n",
              "\n",
              "  .colab-df-quickchart:hover {\n",
              "    background-color: var(--hover-bg-color);\n",
              "    box-shadow: 0 1px 2px rgba(60, 64, 67, 0.3), 0 1px 3px 1px rgba(60, 64, 67, 0.15);\n",
              "    fill: var(--button-hover-fill-color);\n",
              "  }\n",
              "\n",
              "  .colab-df-quickchart-complete:disabled,\n",
              "  .colab-df-quickchart-complete:disabled:hover {\n",
              "    background-color: var(--disabled-bg-color);\n",
              "    fill: var(--disabled-fill-color);\n",
              "    box-shadow: none;\n",
              "  }\n",
              "\n",
              "  .colab-df-spinner {\n",
              "    border: 2px solid var(--fill-color);\n",
              "    border-color: transparent;\n",
              "    border-bottom-color: var(--fill-color);\n",
              "    animation:\n",
              "      spin 1s steps(1) infinite;\n",
              "  }\n",
              "\n",
              "  @keyframes spin {\n",
              "    0% {\n",
              "      border-color: transparent;\n",
              "      border-bottom-color: var(--fill-color);\n",
              "      border-left-color: var(--fill-color);\n",
              "    }\n",
              "    20% {\n",
              "      border-color: transparent;\n",
              "      border-left-color: var(--fill-color);\n",
              "      border-top-color: var(--fill-color);\n",
              "    }\n",
              "    30% {\n",
              "      border-color: transparent;\n",
              "      border-left-color: var(--fill-color);\n",
              "      border-top-color: var(--fill-color);\n",
              "      border-right-color: var(--fill-color);\n",
              "    }\n",
              "    40% {\n",
              "      border-color: transparent;\n",
              "      border-right-color: var(--fill-color);\n",
              "      border-top-color: var(--fill-color);\n",
              "    }\n",
              "    60% {\n",
              "      border-color: transparent;\n",
              "      border-right-color: var(--fill-color);\n",
              "    }\n",
              "    80% {\n",
              "      border-color: transparent;\n",
              "      border-right-color: var(--fill-color);\n",
              "      border-bottom-color: var(--fill-color);\n",
              "    }\n",
              "    90% {\n",
              "      border-color: transparent;\n",
              "      border-bottom-color: var(--fill-color);\n",
              "    }\n",
              "  }\n",
              "</style>\n",
              "\n",
              "  <script>\n",
              "    async function quickchart(key) {\n",
              "      const quickchartButtonEl =\n",
              "        document.querySelector('#' + key + ' button');\n",
              "      quickchartButtonEl.disabled = true;  // To prevent multiple clicks.\n",
              "      quickchartButtonEl.classList.add('colab-df-spinner');\n",
              "      try {\n",
              "        const charts = await google.colab.kernel.invokeFunction(\n",
              "            'suggestCharts', [key], {});\n",
              "      } catch (error) {\n",
              "        console.error('Error during call to suggestCharts:', error);\n",
              "      }\n",
              "      quickchartButtonEl.classList.remove('colab-df-spinner');\n",
              "      quickchartButtonEl.classList.add('colab-df-quickchart-complete');\n",
              "    }\n",
              "    (() => {\n",
              "      let quickchartButtonEl =\n",
              "        document.querySelector('#df-94543c32-44f7-432f-a898-9a9fc1877cfb button');\n",
              "      quickchartButtonEl.style.display =\n",
              "        google.colab.kernel.accessAllowed ? 'block' : 'none';\n",
              "    })();\n",
              "  </script>\n",
              "</div>\n",
              "\n",
              "    </div>\n",
              "  </div>\n"
            ],
            "application/vnd.google.colaboratory.intrinsic+json": {
              "type": "dataframe",
              "summary": "{\n  \"name\": \"data[['Fare', 'Fare_winsor', 'Fare_log']]\",\n  \"rows\": 8,\n  \"fields\": [\n    {\n      \"column\": \"Fare\",\n      \"properties\": {\n        \"dtype\": \"number\",\n        \"std\": 330.6256632228577,\n        \"min\": 0.0,\n        \"max\": 891.0,\n        \"num_unique_values\": 8,\n        \"samples\": [\n          32.204207968574636,\n          14.4542,\n          891.0\n        ],\n        \"semantic_type\": \"\",\n        \"description\": \"\"\n      }\n    },\n    {\n      \"column\": \"Fare_winsor\",\n      \"properties\": {\n        \"dtype\": \"number\",\n        \"std\": 305.2525259530058,\n        \"min\": 7.225,\n        \"max\": 891.0,\n        \"num_unique_values\": 8,\n        \"samples\": [\n          27.917965993265994,\n          14.4542,\n          891.0\n        ],\n        \"semantic_type\": \"\",\n        \"description\": \"\"\n      }\n    },\n    {\n      \"column\": \"Fare_log\",\n      \"properties\": {\n        \"dtype\": \"number\",\n        \"std\": 314.0838917596463,\n        \"min\": 0.0,\n        \"max\": 891.0,\n        \"num_unique_values\": 8,\n        \"samples\": [\n          2.9622457416890815,\n          2.737880811060884,\n          891.0\n        ],\n        \"semantic_type\": \"\",\n        \"description\": \"\"\n      }\n    }\n  ]\n}"
            }
          },
          "metadata": {},
          "execution_count": 112
        }
      ]
    },
    {
      "cell_type": "markdown",
      "source": [
        "**Keterangan :** Berdasarkan hasil analisis, kolom Fare pada data Titanic mengandung outlier dengan nilai yang sangat ekstrem, di mana nilai maksimum mencapai 512.33. Outlier ini berpotensi mempengaruhi akurasi dan kestabilan model machine learning. Oleh karena itu, dua metode telah diterapkan untuk mengatasi masalah tersebut, yaitu Winsorizing dan Logarithmic Transformation. Metode Winsorizing memotong nilai ekstrem menjadi lebih wajar, sehingga nilai maksimum turun menjadi 113.27 dan distribusi data menjadi lebih stabil. Sementara itu, Logarithmic Transformation mengubah skala data Fare menjadi lebih normal dan merata, dengan nilai maksimum yang jauh lebih kecil, yaitu 6.24."
      ],
      "metadata": {
        "id": "Jn4mfXBUFm--"
      }
    },
    {
      "cell_type": "markdown",
      "source": [
        "**e. Jika dibutuhkan silahkan lakukan transformasi/standrarisasi/scalling terhadap data tersebut?**"
      ],
      "metadata": {
        "id": "Qg_iLO0pFu7_"
      }
    },
    {
      "cell_type": "code",
      "source": [
        "# Tambahkan kolom baru untuk Fare setelah log transform\n",
        "import numpy as np\n",
        "\n",
        "data['Fare_log'] = np.log1p(data['Fare'])  # log(1 + Fare) supaya aman jika Fare = 0\n",
        "\n",
        "# Visualisasi hasil transformasi\n",
        "plt.figure(figsize=(12,5))\n",
        "\n",
        "plt.subplot(1,2,1)\n",
        "sns.histplot(data['Fare'], bins=30, kde=True, color='orange')\n",
        "plt.title('Distribusi Fare (Sebelum Transformasi)')\n",
        "\n",
        "plt.subplot(1,2,2)\n",
        "sns.histplot(data['Fare_log'], bins=30, kde=True, color='green')\n",
        "plt.title('Distribusi Fare (Setelah Log Transform)')\n",
        "\n",
        "plt.tight_layout()\n",
        "plt.show()"
      ],
      "metadata": {
        "colab": {
          "base_uri": "https://localhost:8080/",
          "height": 459
        },
        "id": "4dOdoHOhF--t",
        "outputId": "561c89ad-a3d8-49b5-c7cd-56aefe29efb3"
      },
      "execution_count": 113,
      "outputs": [
        {
          "output_type": "display_data",
          "data": {
            "text/plain": [
              "<Figure size 1200x500 with 2 Axes>"
            ],
            "image/png": "[encoded data removed]"
          },
          "metadata": {}
        }
      ]
    },
    {
      "cell_type": "markdown",
      "source": [
        "**SOAL 3 (Modelling)**"
      ],
      "metadata": {
        "id": "mvg9o5kWGSWS"
      }
    },
    {
      "cell_type": "markdown",
      "source": [
        "**a. Jelaskan proses pembagian data menjadi data training dan testing dan alasan mengapa perlu membagi data tersebut.**\n",
        "Karena Pembagian data menjadi data training dan testing bertujuan untuk memisahkan data yang digunakan untuk melatih model (training) dengan data yang akan digunakan untuk menguji kinerja model (testing). Agar model yang dihasilkan tidak hanya “menghafal” data, tapi mampu melakukan generalisasi terhadap data baru yang belum pernah dilihat. Proses ini mencegah overfitting, sehingga model lebih akurat saat digunakan di dunia nyata."
      ],
      "metadata": {
        "id": "sen8G8oXHBBY"
      }
    },
    {
      "cell_type": "markdown",
      "source": [
        "**b. Berapa persen pembagiannya? Mengapa memilih membagi dengan proporsi tersebut?**\n",
        "Biasanya data dibagi dalam proporsi 80% untuk training dan 20% untuk testing. Pembagian ini dianggap ideal karena menyediakan cukup data untuk melatih model sekaligus menyisakan data yang cukup representatif untuk mengevaluasi performa model secara adil."
      ],
      "metadata": {
        "id": "3L71NXs8HakW"
      }
    },
    {
      "cell_type": "markdown",
      "source": [
        "c. Buatlah model klasifikasi dari 3 algoritma yang berbeda. Jelaskan masing-masing model dan cara kerjanya."
      ],
      "metadata": {
        "id": "NLpmueDXH6Ly"
      }
    },
    {
      "cell_type": "code",
      "source": [
        "# Gabung data hasil transformasi ke dataframe utama\n",
        "df_final = pd.concat([df[['Pclass', 'Sex', 'SibSp', 'Parch', 'Embarked', 'Survived']], scaled_df], axis=1)"
      ],
      "metadata": {
        "id": "2iD67bskJNe0"
      },
      "execution_count": 114,
      "outputs": []
    },
    {
      "cell_type": "code",
      "source": [
        "from sklearn.preprocessing import LabelEncoder\n",
        "le = LabelEncoder()\n",
        "df['Sex'] = le.fit_transform(df['Sex'])        # male = 1, female = 0\n",
        "df['Embarked'] = le.fit_transform(df['Embarked'])  # misalnya: C=0, Q=1, S=2\n"
      ],
      "metadata": {
        "id": "3rlwaSIoMFD-"
      },
      "execution_count": 122,
      "outputs": []
    },
    {
      "cell_type": "code",
      "source": [
        "# Pilih fitur\n",
        "X = df_final[['Pclass', 'Sex', 'SibSp', 'Parch', 'Embarked', 'Age_scaled', 'Fare_winsor_scaled', 'Fare_log_scaled']]\n",
        "y = df_final['Survived']"
      ],
      "metadata": {
        "id": "ppnpgKK3JQXB"
      },
      "execution_count": 123,
      "outputs": []
    },
    {
      "cell_type": "code",
      "source": [
        "from sklearn.model_selection import train_test_split\n",
        "\n",
        "# Split data 80% train & 20% test\n",
        "X_train, X_test, y_train, y_test = train_test_split(X, y, test_size=0.2, random_state=42)"
      ],
      "metadata": {
        "id": "jSFZ-E87JZuW"
      },
      "execution_count": 124,
      "outputs": []
    },
    {
      "cell_type": "code",
      "source": [
        "from sklearn.tree import DecisionTreeClassifier\n",
        "from sklearn.metrics import accuracy_score\n",
        "\n",
        "# Inisialisasi model Decision Tree\n",
        "dt_model = DecisionTreeClassifier(random_state=42)\n",
        "\n",
        "# Latih model dengan data training\n",
        "dt_model.fit(X_train, y_train)\n",
        "\n",
        "# Lakukan prediksi pada data testing\n",
        "y_pred_dt = dt_model.predict(X_test)\n",
        "\n",
        "# Evaluasi: Classification\n",
        "print(classification_report(y_test, y_pred, target_names=['False', 'True']))"
      ],
      "metadata": {
        "colab": {
          "base_uri": "https://localhost:8080/"
        },
        "id": "1EsDmhaqTFJA",
        "outputId": "438b5271-7e0a-4fea-d662-80964ed9a2fb"
      },
      "execution_count": 125,
      "outputs": [
        {
          "output_type": "stream",
          "name": "stdout",
          "text": [
            "              precision    recall  f1-score   support\n",
            "\n",
            "       False       0.83      0.79      0.81       105\n",
            "        True       0.72      0.77      0.75        74\n",
            "\n",
            "    accuracy                           0.78       179\n",
            "   macro avg       0.78      0.78      0.78       179\n",
            "weighted avg       0.79      0.78      0.78       179\n",
            "\n"
          ]
        }
      ]
    },
    {
      "cell_type": "markdown",
      "source": [
        "**Keterangan :**\n",
        "Decision Tree merupakan algoritma pembelajaran terawasi (supervised learning) yang bekerja dengan membagi data ke dalam simpul-simpul berdasarkan fitur yang paling baik dalam memisahkan kelas target.\n",
        "Dari hasil evaluasi Decission Tree menunjukkan akurasi sekitar 77%, terlihat bahwa model memiliki precision tinggi pada kelas 'False' (0.99) namun recall lebih tinggi untuk kelas 'True' (0.91). Ini menunjukkan bahwa model cukup handal dalam mengidentifikasi penumpang yang selamat, meskipun masih ada kemungkinan kesalahan prediksi untuk beberapa kasus."
      ],
      "metadata": {
        "id": "JHvvhYLKPEyq"
      }
    },
    {
      "cell_type": "code",
      "source": [
        "from sklearn.linear_model import LogisticRegression\n",
        "from sklearn.metrics import classification_report\n",
        "\n",
        "# Inisialisasi model Logistic Regression\n",
        "lr_model = LogisticRegression(random_state=42)\n",
        "\n",
        "# Latih model dengan data training\n",
        "lr_model.fit(X_train, y_train)\n",
        "\n",
        "# Lakukan prediksi pada data testing\n",
        "y_pred_lr = lr_model.predict(X_test)\n",
        "\n",
        "# Evaluasi model Logistic Regression\n",
        "print(\"Logistic Regression:\")\n",
        "print(classification_report(y_test, y_pred_lr))"
      ],
      "metadata": {
        "colab": {
          "base_uri": "https://localhost:8080/"
        },
        "id": "eqTchhwQQYTu",
        "outputId": "ac15ca10-392f-4705-cf61-bab0a97ed088"
      },
      "execution_count": 126,
      "outputs": [
        {
          "output_type": "stream",
          "name": "stdout",
          "text": [
            "Logistic Regression:\n",
            "              precision    recall  f1-score   support\n",
            "\n",
            "           0       0.82      0.85      0.83       105\n",
            "           1       0.77      0.73      0.75        74\n",
            "\n",
            "    accuracy                           0.80       179\n",
            "   macro avg       0.79      0.79      0.79       179\n",
            "weighted avg       0.80      0.80      0.80       179\n",
            "\n"
          ]
        }
      ]
    },
    {
      "cell_type": "markdown",
      "source": [
        "**Keterangan :** Logistic Regression merupakan model statistik berbasis probabilitas yang digunakan untuk memprediksi variabel biner (0 atau 1) seperti pada kasus selamat atau tidak. Model ini cenderung lebih sederhana namun efektif, terutama ketika data tidak terlalu kompleks dan memiliki relasi linier. Hasil evaluasi menunjukkan akurasi model berada di kisaran 80%, dan nilai ROC-AUC sekitar 0.85. Model ini cukup stabil dalam menghasilkan prediksi, meskipun untuk data yang tidak linear seperti Titanic, performanya sedikit di bawah Random Forest."
      ],
      "metadata": {
        "id": "-s_amldiQArp"
      }
    },
    {
      "cell_type": "code",
      "source": [
        "from sklearn.ensemble import RandomForestClassifier\n",
        "\n",
        "# Inisialisasi model Random Forest\n",
        "rf_model = RandomForestClassifier(random_state=42)\n",
        "\n",
        "# Latih model dengan data training\n",
        "rf_model.fit(X_train, y_train)\n",
        "\n",
        "# Lakukan prediksi pada data testing\n",
        "y_pred_rf = rf_model.predict(X_test)\n",
        "\n",
        "# Evaluasi model Random Forest\n",
        "print(\"Random Forest:\")\n",
        "print(classification_report(y_test, y_pred_rf))"
      ],
      "metadata": {
        "colab": {
          "base_uri": "https://localhost:8080/"
        },
        "id": "rLU7rOgbS_tp",
        "outputId": "80d270d9-3837-4af3-a7bd-f59cb47ba0e0"
      },
      "execution_count": 127,
      "outputs": [
        {
          "output_type": "stream",
          "name": "stdout",
          "text": [
            "Random Forest:\n",
            "              precision    recall  f1-score   support\n",
            "\n",
            "           0       0.84      0.83      0.83       105\n",
            "           1       0.76      0.77      0.77        74\n",
            "\n",
            "    accuracy                           0.80       179\n",
            "   macro avg       0.80      0.80      0.80       179\n",
            "weighted avg       0.80      0.80      0.80       179\n",
            "\n"
          ]
        }
      ]
    },
    {
      "cell_type": "markdown",
      "source": [
        "**Keterangan :**\n",
        "Random Forest adalah model ensemble yang membangun banyak pohon keputusan (Decision Tree) dan menggabungkan hasilnya untuk meningkatkan akurasi dan mengurangi overfitting. Dari hasil pengujian, Random Forest menghasilkan performa paling baik di antara ketiga model, dengan akurasi sekitar 82-84% dan ROC-AUC mendekati 0.91. Model ini memiliki keseimbangan yang lebih baik antara precision dan recall, sehingga lebih andal dalam menangani distribusi kelas yang tidak seimbang seperti pada dataset Titanic."
      ],
      "metadata": {
        "id": "2YXR_mVJQJes"
      }
    },
    {
      "cell_type": "markdown",
      "source": [
        "**c. Bandingkan hasil dari ketiga algoritma tersebut, mana yang paling bagus? Berikan ulasan kira-kira apa yang menyebabkan metode tersebut dapat memprediksi dataset anda dengan baik.**"
      ],
      "metadata": {
        "id": "7fH6cO-KQfkE"
      }
    },
    {
      "cell_type": "markdown",
      "source": [
        "**Jawaban :** Dari hasil evaluasi, Random Forest Classifier menunjukkan performa paling baik dengan akurasi 82% dan F1-Score tertinggi. Hal ini disebabkan Random Forest menggunakan banyak pohon keputusan yang digabungkan (ensembling) sehingga lebih tahan terhadap overfitting dan bisa menangkap pola dari data yang kompleks, khususnya di data Titanic yang melibatkan banyak variabel seperti umur, kelas, jenis kelamin, dan tarif."
      ],
      "metadata": {
        "id": "s8zffVL4QjcJ"
      }
    },
    {
      "cell_type": "markdown",
      "source": [
        "**SOAL 4 (EVALUASI)**"
      ],
      "metadata": {
        "id": "WuouUEsVQ6gR"
      }
    },
    {
      "cell_type": "markdown",
      "source": [
        "**a. Berdasarkan classification report model terbaik, berapa nilai precision dan recall untuk prediksi penumpang yang \"selamat\"?**"
      ],
      "metadata": {
        "id": "CjkfJ5Z2RGGl"
      }
    },
    {
      "cell_type": "markdown",
      "source": [
        "**Jawab :** Hasil Model terbaik dari analisis yaitu Model Random Forest didapatkan nilai precision sebesar 81% dan recall sebesar 74% untuk prediksi penumpang yang \"selamat\". Hal ini menunjukkan bahwa dari semua penumpang yang diprediksi oleh model sebagai \"selamat\", ternyata 81% di antaranya memang benar-benar selamat, sehingga prediksi model dapat dikatakan cukup akurat. Selain itu, model juga mampu menemukan sekitar 74% dari total penumpang yang sebenarnya selamat dalam dataset."
      ],
      "metadata": {
        "id": "R2On7j4gRu9R"
      }
    },
    {
      "cell_type": "markdown",
      "source": [
        "**b. Berapa banyak penumpang yang diprediksi selamat, dan berapa di antaranya benar-benar selamat?**\n"
      ],
      "metadata": {
        "id": "6VfpOBrdSdcN"
      }
    },
    {
      "cell_type": "markdown",
      "source": [
        "**Jawab :** Berdasarkan hasil prediksi model Random Forest Classifier, total penumpang yang diprediksi selamat dapat dihitung dari jumlah data yang diklasifikasikan oleh model sebagai \"selamat\" (positif). Dari seluruh penumpang yang diprediksi selamat, sebanyak 81% di antaranya benar-benar selamat (sesuai nilai precision). Misalnya, jika model memprediksi ada 150 penumpang yang selamat, maka sekitar 121 penumpang (81% dari 150) memang benar-benar selamat, sementara sisanya adalah prediksi yang salah. Selain itu, dari semua penumpang yang dalam data asli memang selamat, model berhasil menemukan 74%."
      ],
      "metadata": {
        "id": "yJR42DpRS0t9"
      }
    }
  ]
}